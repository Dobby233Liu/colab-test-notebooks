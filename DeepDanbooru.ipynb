{
  "nbformat": 4,
  "nbformat_minor": 0,
  "metadata": {
    "colab": {
      "name": "“DeepDanbooru_image_evaluating (1).ipynb”的副本",
      "provenance": [],
      "collapsed_sections": [],
      "include_colab_link": true
    },
    "kernelspec": {
      "name": "python3",
      "display_name": "Python 3"
    },
    "accelerator": "GPU"
  },
  "cells": [
    {
      "cell_type": "markdown",
      "metadata": {
        "id": "view-in-github",
        "colab_type": "text"
      },
      "source": [
        "<a href=\"https://colab.research.google.com/github/Dobby233Liu/colab-test-notebooks/blob/master/DeepDanbooru.ipynb\" target=\"_parent\"><img src=\"https://colab.research.google.com/assets/colab-badge.svg\" alt=\"Open In Colab\"/></a>"
      ]
    },
    {
      "cell_type": "markdown",
      "metadata": {
        "id": "e2A_Gjj5AEc7"
      },
      "source": [
        "# DeepDanbooru (pretrained) image-evaluating notebook for Colab\n",
        "This notebook will install and run DeepDanbooru. It not only lets you evaluate online without the Kanotype demo that's painfully slow and offline for a long time per a day, but also a way to try new models and/or codes."
      ]
    },
    {
      "cell_type": "markdown",
      "metadata": {
        "id": "VfTk9QZmB5Mh"
      },
      "source": [
        "---"
      ]
    },
    {
      "cell_type": "markdown",
      "metadata": {
        "id": "f2IylHSjBAFf"
      },
      "source": [
        "# Setup"
      ]
    },
    {
      "cell_type": "code",
      "metadata": {
        "id": "UBR2zK95h3yT",
        "colab": {
          "base_uri": "https://localhost:8080/"
        },
        "outputId": "f9d333d1-f1d6-412f-96fe-976006064298"
      },
      "source": [
        "# install package\n",
        "!cat DeepDanbooru/setup.py && rm -rf ./DeepDanbooru\n",
        "!git clone --depth=1 https://github.com/KichangKim/DeepDanbooru.git\n",
        "!pip install -q ./DeepDanbooru"
      ],
      "execution_count": null,
      "outputs": [
        {
          "output_type": "stream",
          "text": [
            "cat: DeepDanbooru/setup.py: No such file or directory\n",
            "Cloning into 'DeepDanbooru'...\n",
            "remote: Enumerating objects: 47, done.\u001b[K\n",
            "remote: Counting objects: 100% (47/47), done.\u001b[K\n",
            "remote: Compressing objects: 100% (39/39), done.\u001b[K\n",
            "remote: Total 47 (delta 0), reused 25 (delta 0), pack-reused 0\u001b[K\n",
            "Unpacking objects: 100% (47/47), done.\n",
            "\u001b[33m  DEPRECATION: A future pip version will change local packages to be built in-place without first copying to a temporary directory. We recommend you use --use-feature=in-tree-build to test your packages with this new behavior before it becomes the default.\n",
            "   pip 21.3 will remove support for this functionality. You can find discussion regarding this at https://github.com/pypa/pip/issues/7555.\u001b[0m\n",
            "  Building wheel for deepdanbooru (setup.py) ... \u001b[?25l\u001b[?25hdone\n"
          ],
          "name": "stdout"
        }
      ]
    },
    {
      "cell_type": "code",
      "metadata": {
        "id": "heKOpRghns6X",
        "colab": {
          "base_uri": "https://localhost:8080/"
        },
        "outputId": "63f7b5ef-2619-4a5a-a248-ed86018cc778"
      },
      "source": [
        "# download pretrained model\n",
        "!mkdir model\n",
        "!wget -q -O model/model.zip \"https://github.com/KichangKim/DeepDanbooru/releases/download/v4-20200814-sgd-e30/deepdanbooru-v4-20200814-sgd-e30.zip\" # older but smaller\n",
        "!cd model && unzip model.zip\n",
        "!rm model/model.zip"
      ],
      "execution_count": null,
      "outputs": [
        {
          "output_type": "stream",
          "text": [
            "Archive:  model.zip\n",
            "  inflating: categories.json         \n",
            "  inflating: model-resnet_custom_v4.h5  \n",
            "  inflating: project.json            \n",
            "  inflating: tags.txt                \n",
            "  inflating: tags_log.json           \n",
            "  inflating: tags-character.txt      \n",
            "  inflating: tags-general.txt        \n"
          ],
          "name": "stdout"
        }
      ]
    },
    {
      "cell_type": "code",
      "metadata": {
        "id": "euVaIiqupiX3"
      },
      "source": [
        "# define a useful function\n",
        "import deepdanbooru as dd\n",
        " \n",
        "model = dd.project.load_model_from_project(\"./model\", compile_model=False)\n",
        "tags = dd.project.load_tags_from_project('./model')\n",
        " \n",
        "def _evaluate(image_path, threshold):\n",
        "    final_tags = []\n",
        "    for tag, score in dd.commands.evaluate_image(image_path, model, tags, threshold):\n",
        "            final_tags.append({ \"tag\": tag, \"score\": score.item() })\n",
        " \n",
        "    return final_tags"
      ],
      "execution_count": null,
      "outputs": []
    },
    {
      "cell_type": "markdown",
      "metadata": {
        "id": "xTSGBSrR_5IG"
      },
      "source": [
        "---\n",
        "# Evaluate image"
      ]
    },
    {
      "cell_type": "code",
      "metadata": {
        "id": "AAf1NhqcTa_2"
      },
      "source": [
        "image_path = input(\"Image path (WARNING: this accepts only one file):\\n\")\n",
        "final_tags = _evaluate(image_path, 0.5)\n",
        "print(f'Tag(s) for {image_path}\\n')\n",
        "for entry in final_tags:\n",
        "      score = entry[\"score\"]\n",
        "      tag = entry[\"tag\"]\n",
        "      print(f'(~{score:05.3f}) {tag}')"
      ],
      "execution_count": null,
      "outputs": []
    },
    {
      "cell_type": "markdown",
      "metadata": {
        "id": "Wt3PS0UvQ2r3"
      },
      "source": [
        "# Evaluation server"
      ]
    },
    {
      "cell_type": "code",
      "metadata": {
        "id": "F7fvtB55DoOI",
        "colab": {
          "base_uri": "https://localhost:8080/"
        },
        "outputId": "f6cb0cb7-56a9-468c-c377-974c9eaaa14a"
      },
      "source": [
        "# download a part of my repo for the ui files\n",
        "!cat colab-test-notebooks/README.md && rm -rf ./colab-test-notebooks\n",
        "!git clone --depth=1 \"https://github.com/Dobby233Liu/colab-test-notebooks.git\""
      ],
      "execution_count": null,
      "outputs": [
        {
          "output_type": "stream",
          "text": [
            "cat: colab-test-notebooks/README.md: No such file or directory\n",
            "Cloning into 'colab-test-notebooks'...\n",
            "remote: Enumerating objects: 7, done.\u001b[K\n",
            "remote: Counting objects: 100% (7/7), done.\u001b[K\n",
            "remote: Compressing objects: 100% (7/7), done.\u001b[K\n",
            "remote: Total 7 (delta 1), reused 0 (delta 0), pack-reused 0\u001b[K\n",
            "Unpacking objects: 100% (7/7), done.\n"
          ],
          "name": "stdout"
        }
      ]
    },
    {
      "cell_type": "code",
      "metadata": {
        "id": "x1i8r62LxINM",
        "colab": {
          "base_uri": "https://localhost:8080/"
        },
        "outputId": "ced7b40f-11dd-4ed9-a040-4b8de796106c"
      },
      "source": [
        "!pip install -q flask; #==0.12.2\n",
        "!cat flask-ngrok/setup.py && rm -rf ./flask-ngrok\n",
        "# actually proxy_url helper\n",
        "!git clone --depth=1 https://github.com/Dobby233Liu/flask-ngrok.git\n",
        "!pip install -q ./flask-ngrok"
      ],
      "execution_count": null,
      "outputs": [
        {
          "output_type": "stream",
          "text": [
            "cat: flask-ngrok/setup.py: No such file or directory\n",
            "Cloning into 'flask-ngrok'...\n",
            "remote: Enumerating objects: 7, done.\u001b[K\n",
            "remote: Counting objects: 100% (7/7), done.\u001b[K\n",
            "remote: Compressing objects: 100% (7/7), done.\u001b[K\n",
            "remote: Total 7 (delta 0), reused 2 (delta 0), pack-reused 0\u001b[K\n",
            "Unpacking objects: 100% (7/7), done.\n",
            "\u001b[33m  DEPRECATION: A future pip version will change local packages to be built in-place without first copying to a temporary directory. We recommend you use --use-feature=in-tree-build to test your packages with this new behavior before it becomes the default.\n",
            "   pip 21.3 will remove support for this functionality. You can find discussion regarding this at https://github.com/pypa/pip/issues/7555.\u001b[0m\n",
            "  Building wheel for flask-ngrok (setup.py) ... \u001b[?25l\u001b[?25hdone\n"
          ],
          "name": "stdout"
        }
      ]
    },
    {
      "cell_type": "code",
      "metadata": {
        "id": "aprt1H4ESAn3",
        "colab": {
          "base_uri": "https://localhost:8080/",
          "height": 367
        },
        "outputId": "c1c70601-9d1f-4253-c983-145ee3c50ce2"
      },
      "source": [
        "# server\n",
        "import flask\n",
        "from flask_ngrok import hook_proxy_helper\n",
        "import werkzeug\n",
        "import os, sys\n",
        " \n",
        "app = flask.Flask(__name__)\n",
        "hook_proxy_helper(app)\n",
        " \n",
        "# a hack made for _evaluate return\n",
        "def createHtmlTbodyByEv(arr):\n",
        "    html = ''\n",
        "    for i in arr:\n",
        "        html = html + '\\t\\t\\t\\t\\t<tr>\\n'\n",
        "        html = html + f'\\t\\t\\t\\t\\t\\t<td><a href=\"http://danbooru.donmai.us/posts?tags={i[\"tag\"]}\">{i[\"tag\"]}</a></td>\\n'\n",
        "        html = html + f'\\t\\t\\t\\t\\t\\t<td><abbr title=\"{i[\"score\"]}\">{i[\"score\"]:05.3f}</abbr></td>\\n'\n",
        "        html = html + '\\t\\t\\t\\t\\t</tr>\\n'\n",
        "    return html\n",
        " \n",
        "def generic_predict():\n",
        "  imagefile = flask.request.files['image']\n",
        "  filename = werkzeug.utils.secure_filename(imagefile.filename)\n",
        "  imagefile.save(filename)\n",
        " \n",
        "  try:\n",
        "    final_tags = _evaluate(filename, 0.5)\n",
        "  finally:\n",
        "    os.remove(filename)\n",
        "  return final_tags\n",
        " \n",
        "def my_html_files(id):\n",
        "  file = \"colab-test-notebooks/ddwebui/{ui}.html\".format(ui=id)\n",
        "  return file\n",
        "def rfile(fn):\n",
        "  with open(fn, \"r\") as f:\n",
        "    return f.read()\n",
        " \n",
        "@app.route('/predict', methods = ['POST'])\n",
        "def handle_request_predict():\n",
        "  try:\n",
        "    content = {\n",
        "      \"result\": \"failed\",\n",
        "      \"tags\": [],\n",
        "      \"ex\": \"???\"\n",
        "    }\n",
        "    status = 500\n",
        "    try:\n",
        "      content[\"tags\"] = generic_predict()\n",
        "      content[\"result\"] = \"complete\"\n",
        "      status = 200\n",
        "      content[\"ex\"] = \"\"\n",
        "    except Exception as e:\n",
        "      content[\"ex\"] = repr(e)\n",
        "    return flask.jsonify(content), status\n",
        "  except Exception as e:\n",
        "    sys.stdout.write(repr(e) + \"\\n\")\n",
        "    raise\n",
        " \n",
        "@app.route('/predict_html', methods = ['POST'])\n",
        "def handle_request_predict_html():\n",
        "    final_tags = createHtmlTbodyByEv(generic_predict())\n",
        " \n",
        "    return flask.make_response(rfile(my_html_files(\"predict\")).format(tableOfContents=final_tags))\n",
        " \n",
        "@app.route('/', methods = ['GET'])\n",
        "def handle_request_form():\n",
        "    return flask.send_file(my_html_files(\"index\"))\n",
        " \n",
        "if __name__ == '__main__':\n",
        "    app.run()"
      ],
      "execution_count": null,
      "outputs": [
        {
          "output_type": "stream",
          "text": [
            " * Serving Flask app \"__main__\" (lazy loading)\n",
            " * Environment: production\n",
            "\u001b[31m   WARNING: This is a development server. Do not use it in a production deployment.\u001b[0m\n",
            "\u001b[2m   Use a production WSGI server instead.\u001b[0m\n",
            " * Debug mode: off\n"
          ],
          "name": "stdout"
        },
        {
          "output_type": "stream",
          "text": [
            " * Running on http://127.0.0.1:5000/ (Press CTRL+C to quit)\n"
          ],
          "name": "stderr"
        },
        {
          "output_type": "stream",
          "text": [
            " * Port exposed to address https://1fgb7osolns-496ff2e9c6d22116-5000-colab.googleusercontent.com/\n"
          ],
          "name": "stdout"
        },
        {
          "output_type": "stream",
          "text": [
            "127.0.0.1 - - [27/Jul/2021 07:34:14] \"\u001b[37mGET / HTTP/1.1\u001b[0m\" 200 -\n",
            "127.0.0.1 - - [27/Jul/2021 07:34:16] \"\u001b[33mGET /favicon.ico HTTP/1.1\u001b[0m\" 404 -\n",
            "127.0.0.1 - - [27/Jul/2021 07:34:25] \"\u001b[37mPOST /predict_html HTTP/1.1\u001b[0m\" 200 -\n",
            "127.0.0.1 - - [27/Jul/2021 07:34:26] \"\u001b[33mGET /favicon.ico HTTP/1.1\u001b[0m\" 404 -\n",
            "127.0.0.1 - - [27/Jul/2021 07:34:36] \"\u001b[37mGET / HTTP/1.1\u001b[0m\" 200 -\n",
            "127.0.0.1 - - [27/Jul/2021 07:34:37] \"\u001b[33mGET /favicon.ico HTTP/1.1\u001b[0m\" 404 -\n",
            "127.0.0.1 - - [27/Jul/2021 07:34:48] \"\u001b[37mPOST /predict_html HTTP/1.1\u001b[0m\" 200 -\n",
            "127.0.0.1 - - [27/Jul/2021 07:34:49] \"\u001b[33mGET /favicon.ico HTTP/1.1\u001b[0m\" 404 -\n",
            "127.0.0.1 - - [27/Jul/2021 07:35:05] \"\u001b[37mGET / HTTP/1.1\u001b[0m\" 200 -\n",
            "127.0.0.1 - - [27/Jul/2021 07:35:06] \"\u001b[33mGET /favicon.ico HTTP/1.1\u001b[0m\" 404 -\n",
            "127.0.0.1 - - [27/Jul/2021 07:35:16] \"\u001b[37mPOST /predict_html HTTP/1.1\u001b[0m\" 200 -\n",
            "127.0.0.1 - - [27/Jul/2021 07:35:17] \"\u001b[33mGET /favicon.ico HTTP/1.1\u001b[0m\" 404 -\n"
          ],
          "name": "stderr"
        }
      ]
    }
  ]
}