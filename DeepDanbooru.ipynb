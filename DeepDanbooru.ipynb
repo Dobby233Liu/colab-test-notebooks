{
  "nbformat": 4,
  "nbformat_minor": 0,
  "metadata": {
    "colab": {
      "name": "DeepDanbooru image-evaluating",
      "provenance": [],
      "collapsed_sections": [],
      "toc_visible": true,
      "include_colab_link": true
    },
    "kernelspec": {
      "name": "python3",
      "display_name": "Python 3"
    },
    "accelerator": "GPU"
  },
  "cells": [
    {
      "cell_type": "markdown",
      "metadata": {
        "id": "view-in-github",
        "colab_type": "text"
      },
      "source": [
        "<a href=\"https://colab.research.google.com/github/Dobby233Liu/colab-test-notebooks/blob/master/DeepDanbooru.ipynb\" target=\"_parent\"><img src=\"https://colab.research.google.com/assets/colab-badge.svg\" alt=\"Open In Colab\"/></a>"
      ]
    },
    {
      "cell_type": "markdown",
      "metadata": {
        "id": "e2A_Gjj5AEc7",
        "colab_type": "text"
      },
      "source": [
        "# DeepDanbooru (pretrained) image-evaluating notebook for Colab\n",
        "This notebook will install and run DeepDanbooru. It not only lets you evaluate online without the Kanotype demo that's painfully slow and offline for a long time per a day, but also a way to try new models and/or codes."
      ]
    },
    {
      "cell_type": "markdown",
      "metadata": {
        "id": "VfTk9QZmB5Mh",
        "colab_type": "text"
      },
      "source": [
        "---"
      ]
    },
    {
      "cell_type": "markdown",
      "metadata": {
        "id": "f2IylHSjBAFf",
        "colab_type": "text"
      },
      "source": [
        "# Setup"
      ]
    },
    {
      "cell_type": "code",
      "metadata": {
        "id": "UBR2zK95h3yT",
        "colab_type": "code",
        "colab": {}
      },
      "source": [
        "# install package\n",
        "!git clone --depth=1 https://github.com/KichangKim/DeepDanbooru.git\n",
        "!pip install ./DeepDanbooru"
      ],
      "execution_count": null,
      "outputs": []
    },
    {
      "cell_type": "code",
      "metadata": {
        "id": "heKOpRghns6X",
        "colab_type": "code",
        "colab": {}
      },
      "source": [
        "# download pretrained model\n",
        "!mkdir model\n",
        "!wget -O model/model.zip \"https://github.com/KichangKim/DeepDanbooru/releases/download/v3-20200101-sgd-e30/deepdanbooru-v3-20200101-sgd-e30.zip\" # change it in new releases\n",
        "!cd model && unzip model.zip\n",
        "!rm model/model.zip"
      ],
      "execution_count": null,
      "outputs": []
    },
    {
      "cell_type": "code",
      "metadata": {
        "id": "euVaIiqupiX3",
        "colab_type": "code",
        "colab": {}
      },
      "source": [
        "import deepdanbooru as dd\n",
        "import json\n",
        "\n",
        "def _evaluate(image_path, project_path, threshold):\n",
        "    model = dd.project.load_model_from_project(project_path, compile_model=False)\n",
        "    tags = dd.project.load_tags_from_project(project_path)\n",
        "\n",
        "    final_tags = []\n",
        "    for tag, score in dd.commands.evaluate_image(image_path, model, tags, threshold):\n",
        "            dObj = { \"tag\": tag, \"score\": score.item() }\n",
        "            final_tags.append(dObj)\n",
        "\n",
        "    return final_tags"
      ],
      "execution_count": 9,
      "outputs": []
    },
    {
      "cell_type": "markdown",
      "metadata": {
        "id": "xTSGBSrR_5IG",
        "colab_type": "text"
      },
      "source": [
        "---\n",
        "# Evaluate image"
      ]
    },
    {
      "cell_type": "code",
      "metadata": {
        "id": "AAf1NhqcTa_2",
        "colab_type": "code",
        "colab": {}
      },
      "source": [
        "image_path = input(\"Image path (WARNING: this accepts only one file):\\n\")\n",
        "print()\n",
        "final_tags = _evaluate(image_path, \"./model\", 0.5)\n",
        "print(f'Tag(s) for {image_path}\\n')\n",
        "for entry in final_tags:\n",
        "      score = entry[\"score\"]\n",
        "      tag = entry[\"tag\"]\n",
        "      print(f'(~{score:05.3f}) {tag}')"
      ],
      "execution_count": null,
      "outputs": []
    },
    {
      "cell_type": "markdown",
      "metadata": {
        "id": "Wt3PS0UvQ2r3",
        "colab_type": "text"
      },
      "source": [
        "# Evaluation server"
      ]
    },
    {
      "cell_type": "code",
      "metadata": {
        "id": "xdPGz64IQ6P7",
        "colab_type": "code",
        "colab": {}
      },
      "source": [
        "!wget https://bin.equinox.io/c/4VmDzA7iaHb/ngrok-stable-linux-amd64.zip -O ngrok-stable-linux-amd64.zip\n",
        "!unzip -u ngrok-stable-linux-amd64.zip\n",
        "!cp ngrok /bin/ngrok\n",
        "!chmod +x /bin/ngrok\n",
        "!/bin/ngrok authtoken 1ez5xDkBBHnburvW78pINIQ79WO_88HPQy5t9gULfh6UappJH\n",
        "\n",
        "!pip install flask-ngrok\n",
        "!pip install flask==0.12.2"
      ],
      "execution_count": null,
      "outputs": []
    },
    {
      "cell_type": "code",
      "metadata": {
        "id": "aprt1H4ESAn3",
        "colab_type": "code",
        "colab": {}
      },
      "source": [
        "import flask\n",
        "from flask_ngrok import run_with_ngrok\n",
        "import werkzeug\n",
        "import json\n",
        "import os\n",
        "\n",
        "app = flask.Flask(__name__)\n",
        "run_with_ngrok(app)\n",
        "\n",
        "@app.route('/predict', methods = ['POST'])\n",
        "def handle_request_predict():\n",
        "    imagefile = flask.request.files['image']\n",
        "    filename = werkzeug.utils.secure_filename(imagefile.filename)\n",
        "    imagefile.save(filename)\n",
        "\n",
        "    final_tags = _evaluate(filename, \"./model\", 0.5)\n",
        "    os.remove(filename)\n",
        "\n",
        "    return json.dumps(final_tags)\n",
        "\n",
        "if __name__ == '__main__':\n",
        "    app.run()"
      ],
      "execution_count": null,
      "outputs": []
    },
    {
      "cell_type": "markdown",
      "metadata": {
        "id": "u5oUvH7KRQ_h",
        "colab_type": "text"
      },
      "source": [
        "Now you can:\n",
        "```bash\n",
        "curl -F \"image=<jpg/png/gif>\" http://<subdomain>.ngrok.io/predict\n",
        "```\n",
        "Example output:\n",
        "```json\n",
        "[{\"tag\": \"1girl\", \"score\": 0.9972099661827087}, {\"tag\": \"animal_ears\", \"score\": 0.9628053307533264}, {\"tag\": \"bangs\", \"score\": 0.6372907757759094}, {\"tag\": \"beret\", \"score\": 0.636321485042572}, {\"tag\": \"black_headwear\", \"score\": 0.5399508476257324}, {\"tag\": \"blush\", \"score\": 0.7675533890724182}, {\"tag\": \"bow\", \"score\": 0.5911067724227905}, {\"tag\": \"bunny_ears\", \"score\": 0.9958749413490295}, {\"tag\": \"candy\", \"score\": 0.8722140789031982}, {\"tag\": \"collared_shirt\", \"score\": 0.5831295847892761}, {\"tag\": \"diagonal_stripes\", \"score\": 0.9149599671363831}, {\"tag\": \"eyebrows_visible_through_hair\", \"score\": 0.5815466046333313}, {\"tag\": \"food\", \"score\": 0.9764244556427002}, {\"tag\": \"hat\", \"score\": 0.9660016894340515}, {\"tag\": \"holding\", \"score\": 0.8269818425178528}, {\"tag\": \"holding_food\", \"score\": 0.8598812818527222}, {\"tag\": \"jacket\", \"score\": 0.6863384246826172}, {\"tag\": \"lollipop\", \"score\": 0.7567343711853027}, {\"tag\": \"long_hair\", \"score\": 0.7823876142501831}, {\"tag\": \"long_sleeves\", \"score\": 0.5009376406669617}, {\"tag\": \"looking_at_viewer\", \"score\": 0.562648355960846}, {\"tag\": \"necktie\", \"score\": 0.6191784143447876}, {\"tag\": \"shirt\", \"score\": 0.846998929977417}, {\"tag\": \"solo\", \"score\": 0.9939253926277161}, {\"tag\": \"striped\", \"score\": 0.981475830078125}, {\"tag\": \"striped_background\", \"score\": 0.6125760674476624}, {\"tag\": \"striped_neckwear\", \"score\": 0.5707010626792908}, {\"tag\": \"stuffed_animal\", \"score\": 0.733761727809906}, {\"tag\": \"stuffed_toy\", \"score\": 0.6411434412002563}, {\"tag\": \"twintails\", \"score\": 0.9228045344352722}, {\"tag\": \"upper_body\", \"score\": 0.6335099339485168}, {\"tag\": \"white_shirt\", \"score\": 0.8326262831687927}, {\"tag\": \"rating:safe\", \"score\": 0.9996780157089233}]\n",
        "```\n",
        "You can also write a Web UI, but I'm not going to do that."
      ]
    }
  ]
}